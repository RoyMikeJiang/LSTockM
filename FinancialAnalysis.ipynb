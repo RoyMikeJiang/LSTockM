{
 "cells": [
  {
   "cell_type": "markdown",
   "id": "889d5f53",
   "metadata": {
    "toc": true
   },
   "source": [
    "<h1>Table of Contents<span class=\"tocSkip\"></span></h1>\n",
    "<div class=\"toc\"><ul class=\"toc-item\"><li><span><a href=\"#Visualization\" data-toc-modified-id=\"Visualization-1\"><span class=\"toc-item-num\">1&nbsp;&nbsp;</span>Visualization</a></span><ul class=\"toc-item\"><li><span><a href=\"#Volume\" data-toc-modified-id=\"Volume-1.1\"><span class=\"toc-item-num\">1.1&nbsp;&nbsp;</span>Volume</a></span></li><li><span><a href=\"#The-Distribution-of-Returns\" data-toc-modified-id=\"The-Distribution-of-Returns-1.2\"><span class=\"toc-item-num\">1.2&nbsp;&nbsp;</span>The Distribution of Returns</a></span></li></ul></li><li><span><a href=\"#Financial-Analysis\" data-toc-modified-id=\"Financial-Analysis-2\"><span class=\"toc-item-num\">2&nbsp;&nbsp;</span>Financial Analysis</a></span><ul class=\"toc-item\"><li><span><a href=\"#Value-at-Risk/VaR\" data-toc-modified-id=\"Value-at-Risk/VaR-2.1\"><span class=\"toc-item-num\">2.1&nbsp;&nbsp;</span>Value at Risk/VaR</a></span></li><li><span><a href=\"#beta/$\\beta$\" data-toc-modified-id=\"beta/$\\beta$-2.2\"><span class=\"toc-item-num\">2.2&nbsp;&nbsp;</span>beta/$\\beta$</a></span></li><li><span><a href=\"#Price/Earnings-to-Growth-(PEG)-Ratio\" data-toc-modified-id=\"Price/Earnings-to-Growth-(PEG)-Ratio-2.3\"><span class=\"toc-item-num\">2.3&nbsp;&nbsp;</span>Price/Earnings-to-Growth (PEG) Ratio</a></span></li><li><span><a href=\"#Quick-Ratio\" data-toc-modified-id=\"Quick-Ratio-2.4\"><span class=\"toc-item-num\">2.4&nbsp;&nbsp;</span>Quick Ratio</a></span></li></ul></li></ul></div>"
   ]
  },
  {
   "cell_type": "code",
   "execution_count": 1,
   "id": "b2ad2c08",
   "metadata": {
    "ExecuteTime": {
     "end_time": "2022-07-27T04:16:01.207456Z",
     "start_time": "2022-07-27T04:15:58.540836Z"
    }
   },
   "outputs": [],
   "source": [
    "import numpy as np\n",
    "import pandas as pd\n",
    "import matplotlib.pyplot as plt\n",
    "import yfinance as yf\n",
    "import datetime\n",
    "import pandas_datareader.data as web"
   ]
  },
  {
   "cell_type": "code",
   "execution_count": 5,
   "id": "fa09ec96",
   "metadata": {
    "ExecuteTime": {
     "end_time": "2022-07-27T04:16:26.981565Z",
     "start_time": "2022-07-27T04:16:23.984829Z"
    }
   },
   "outputs": [
    {
     "data": {
      "text/html": [
       "<div>\n",
       "<style scoped>\n",
       "    .dataframe tbody tr th:only-of-type {\n",
       "        vertical-align: middle;\n",
       "    }\n",
       "\n",
       "    .dataframe tbody tr th {\n",
       "        vertical-align: top;\n",
       "    }\n",
       "\n",
       "    .dataframe thead th {\n",
       "        text-align: right;\n",
       "    }\n",
       "</style>\n",
       "<table border=\"1\" class=\"dataframe\">\n",
       "  <thead>\n",
       "    <tr style=\"text-align: right;\">\n",
       "      <th></th>\n",
       "      <th>High</th>\n",
       "      <th>Low</th>\n",
       "      <th>Open</th>\n",
       "      <th>Close</th>\n",
       "      <th>Volume</th>\n",
       "      <th>Adj Close</th>\n",
       "    </tr>\n",
       "    <tr>\n",
       "      <th>Date</th>\n",
       "      <th></th>\n",
       "      <th></th>\n",
       "      <th></th>\n",
       "      <th></th>\n",
       "      <th></th>\n",
       "      <th></th>\n",
       "    </tr>\n",
       "  </thead>\n",
       "  <tbody>\n",
       "    <tr>\n",
       "      <th>2021-12-27</th>\n",
       "      <td>180.419998</td>\n",
       "      <td>177.070007</td>\n",
       "      <td>177.089996</td>\n",
       "      <td>180.330002</td>\n",
       "      <td>74919600.0</td>\n",
       "      <td>179.836319</td>\n",
       "    </tr>\n",
       "    <tr>\n",
       "      <th>2021-12-28</th>\n",
       "      <td>181.330002</td>\n",
       "      <td>178.529999</td>\n",
       "      <td>180.160004</td>\n",
       "      <td>179.289993</td>\n",
       "      <td>79144300.0</td>\n",
       "      <td>178.799164</td>\n",
       "    </tr>\n",
       "    <tr>\n",
       "      <th>2021-12-29</th>\n",
       "      <td>180.630005</td>\n",
       "      <td>178.139999</td>\n",
       "      <td>179.330002</td>\n",
       "      <td>179.380005</td>\n",
       "      <td>62348900.0</td>\n",
       "      <td>178.888916</td>\n",
       "    </tr>\n",
       "    <tr>\n",
       "      <th>2021-12-30</th>\n",
       "      <td>180.570007</td>\n",
       "      <td>178.089996</td>\n",
       "      <td>179.470001</td>\n",
       "      <td>178.199997</td>\n",
       "      <td>59773000.0</td>\n",
       "      <td>177.712143</td>\n",
       "    </tr>\n",
       "    <tr>\n",
       "      <th>2021-12-31</th>\n",
       "      <td>179.229996</td>\n",
       "      <td>177.259995</td>\n",
       "      <td>178.089996</td>\n",
       "      <td>177.570007</td>\n",
       "      <td>64062300.0</td>\n",
       "      <td>177.083878</td>\n",
       "    </tr>\n",
       "  </tbody>\n",
       "</table>\n",
       "</div>"
      ],
      "text/plain": [
       "                  High         Low        Open       Close      Volume  \\\n",
       "Date                                                                     \n",
       "2021-12-27  180.419998  177.070007  177.089996  180.330002  74919600.0   \n",
       "2021-12-28  181.330002  178.529999  180.160004  179.289993  79144300.0   \n",
       "2021-12-29  180.630005  178.139999  179.330002  179.380005  62348900.0   \n",
       "2021-12-30  180.570007  178.089996  179.470001  178.199997  59773000.0   \n",
       "2021-12-31  179.229996  177.259995  178.089996  177.570007  64062300.0   \n",
       "\n",
       "             Adj Close  \n",
       "Date                    \n",
       "2021-12-27  179.836319  \n",
       "2021-12-28  178.799164  \n",
       "2021-12-29  178.888916  \n",
       "2021-12-30  177.712143  \n",
       "2021-12-31  177.083878  "
      ]
     },
     "execution_count": 5,
     "metadata": {},
     "output_type": "execute_result"
    }
   ],
   "source": [
    "start = datetime.datetime(2020, 1, 1)\n",
    "end = datetime.datetime(2021, 12, 31)\n",
    "\n",
    "ticker = 'AAPL'\n",
    "\n",
    "stock_data = web.DataReader(ticker, 'yahoo', start, end)\n",
    "stock_data.tail()"
   ]
  },
  {
   "cell_type": "markdown",
   "id": "e464a081",
   "metadata": {},
   "source": [
    "## Visualization"
   ]
  },
  {
   "cell_type": "markdown",
   "id": "3702b8a8",
   "metadata": {},
   "source": [
    "### Volume"
   ]
  },
  {
   "cell_type": "code",
   "execution_count": 3,
   "id": "4f9a66f1",
   "metadata": {
    "ExecuteTime": {
     "end_time": "2022-07-27T04:16:12.666426Z",
     "start_time": "2022-07-27T04:16:12.646831Z"
    }
   },
   "outputs": [],
   "source": [
    "# Plot volume curve.\n",
    "\n",
    "# Parameter:\n",
    "#     stock_data: (DataFrame) stock trading data.\n",
    "\n",
    "def plot_volume(stock_data):\n",
    "    ma_volume = stock_data['Volume'].rolling(window=30).mean()\n",
    "    plt.figure(figsize=(10,6))\n",
    "    plt.style.use('ggplot')\n",
    "    plt.plot(stock_data['Volume'])\n",
    "    plt.plot(ma_volume)\n",
    "    plt.legend(['Volume', 'Moving Average'], loc='upper right')\n",
    "    plt.xlabel('Date')\n",
    "    plt.ylabel('Volume')\n",
    "    plt.show()"
   ]
  },
  {
   "cell_type": "code",
   "execution_count": 6,
   "id": "bac3552a",
   "metadata": {
    "ExecuteTime": {
     "end_time": "2022-07-27T04:16:30.053582Z",
     "start_time": "2022-07-27T04:16:29.681085Z"
    }
   },
   "outputs": [
    {
     "data": {
      "image/png": "[encoded data removed]",
      "text/plain": [
       "<Figure size 720x432 with 1 Axes>"
      ]
     },
     "metadata": {},
     "output_type": "display_data"
    },
    {
     "name": "stdout",
     "output_type": "stream",
     "text": [
      "                 High        Low       Open      Close       Volume  Adj Close\n",
      "Date                                                                          \n",
      "2019-12-31  73.419998  72.379997  72.482498  73.412498  100805600.0  72.139954\n",
      "2020-01-02  75.150002  73.797501  74.059998  75.087502  135480400.0  73.785927\n",
      "2020-01-03  75.144997  74.125000  74.287498  74.357498  146322800.0  73.068565\n",
      "2020-01-06  74.989998  73.187500  73.447502  74.949997  118387200.0  73.650795\n",
      "2020-01-07  75.224998  74.370003  74.959999  74.597504  108872000.0  73.304420\n"
     ]
    },
    {
     "data": {
      "text/plain": [
       "pandas.core.frame.DataFrame"
      ]
     },
     "execution_count": 6,
     "metadata": {},
     "output_type": "execute_result"
    }
   ],
   "source": [
    "# Example\n",
    "plot_volume(stock_data)\n",
    "print(stock_data.head())\n",
    "type(stock_data)"
   ]
  },
  {
   "cell_type": "markdown",
   "id": "403a9067",
   "metadata": {},
   "source": [
    "**Financial Knowledge：**  \n",
    "Trading volume is a measure of how much a given financial asset has traded in a period of time. For stocks, volume is measured in the number of shares traded.  \n",
    "  \n",
    "Traders look to volume to determine liquidity and combine changes in volume with technical indicators to make trading decisions.\n",
    "  \n",
    "A rising market should see rising volume. Buyers require increasing numbers and increasing enthusiasm to keep pushing prices higher. Increasing price and decreasing volume might suggest a lack of interest, and this is a warning of a potential reversal.  \n"
   ]
  },
  {
   "cell_type": "markdown",
   "id": "3515612c",
   "metadata": {},
   "source": [
    "### The Distribution of Returns"
   ]
  },
  {
   "cell_type": "code",
   "execution_count": 8,
   "id": "d838a37c",
   "metadata": {
    "ExecuteTime": {
     "end_time": "2022-07-27T04:23:11.736632Z",
     "start_time": "2022-07-27T04:23:11.720475Z"
    }
   },
   "outputs": [],
   "source": [
    "# Plot the distribution of stock returns.\n",
    "\n",
    "# Parameter:\n",
    "#     stock_data: (DataFrame) stock trading data.\n",
    "\n",
    "def plot_return_dis(stock_data):\n",
    "    hist_count = stock_data.shape[0] // 3\n",
    "    stock_data['Returns'] = stock_data['Close'].pct_change()\n",
    "    plt.figure(figsize=(8, 4))\n",
    "    stock_data['Returns'].plot.hist(bins=hist_count)\n",
    "    plt.xlabel('Stock Returns')\n",
    "    plt.ylabel('Frequency')\n",
    "    plt.title('The Distribution of Stock Returns')\n",
    "    plt.show()"
   ]
  },
  {
   "cell_type": "code",
   "execution_count": 9,
   "id": "8627b8ab",
   "metadata": {
    "ExecuteTime": {
     "end_time": "2022-07-27T04:23:13.613321Z",
     "start_time": "2022-07-27T04:23:12.919686Z"
    }
   },
   "outputs": [
    {
     "data": {
      "image/png": "[encoded data removed]",
      "text/plain": [
       "<Figure size 576x288 with 1 Axes>"
      ]
     },
     "metadata": {},
     "output_type": "display_data"
    },
    {
     "name": "stdout",
     "output_type": "stream",
     "text": [
      "                 High        Low       Open      Close       Volume  \\\n",
      "Date                                                                  \n",
      "2019-12-31  73.419998  72.379997  72.482498  73.412498  100805600.0   \n",
      "2020-01-02  75.150002  73.797501  74.059998  75.087502  135480400.0   \n",
      "2020-01-03  75.144997  74.125000  74.287498  74.357498  146322800.0   \n",
      "2020-01-06  74.989998  73.187500  73.447502  74.949997  118387200.0   \n",
      "2020-01-07  75.224998  74.370003  74.959999  74.597504  108872000.0   \n",
      "\n",
      "            Adj Close   Returns  \n",
      "Date                             \n",
      "2019-12-31  72.139954       NaN  \n",
      "2020-01-02  73.785927  0.022816  \n",
      "2020-01-03  73.068565 -0.009722  \n",
      "2020-01-06  73.650795  0.007968  \n",
      "2020-01-07  73.304420 -0.004703  \n"
     ]
    },
    {
     "data": {
      "text/plain": [
       "pandas.core.frame.DataFrame"
      ]
     },
     "execution_count": 9,
     "metadata": {},
     "output_type": "execute_result"
    }
   ],
   "source": [
    "# Example\n",
    "plot_return_dis(stock_data)\n",
    "\n",
    "print(stock_data.head())\n",
    "type(stock_data)"
   ]
  },
  {
   "cell_type": "markdown",
   "id": "5535303d",
   "metadata": {},
   "source": [
    "**Financial Knowledge：**    \n",
    "This plot exhibits the distribution of stock returns.  \n",
    "   \n",
    "Stock market returns are not normally distributed. Instead, we think of them as having fat tails (i.e. extreme events happen more frequently than expected).  \n",
    "  \n",
    "A fatter tail indicates that extreme returns take place more frequently. We usually think such stock to be of high risk.\n",
    "\n"
   ]
  },
  {
   "cell_type": "markdown",
   "id": "a0788466",
   "metadata": {},
   "source": [
    "## Financial Analysis"
   ]
  },
  {
   "cell_type": "markdown",
   "id": "634572d0",
   "metadata": {},
   "source": [
    "### Value at Risk/VaR\n",
    "By assessing the amount of potential loss, the probability of occurrence for the amount of loss, and the timeframe, we can get an approximate number to help our users to make decisions."
   ]
  },
  {
   "cell_type": "code",
   "execution_count": 7,
   "id": "2fbca80e",
   "metadata": {
    "ExecuteTime": {
     "end_time": "2022-07-25T13:49:16.572381Z",
     "start_time": "2022-07-25T13:49:15.034663Z"
    }
   },
   "outputs": [],
   "source": [
    "import scipy.stats as stats\n",
    "import math"
   ]
  },
  {
   "cell_type": "code",
   "execution_count": 8,
   "id": "d6398ae0",
   "metadata": {
    "ExecuteTime": {
     "end_time": "2022-07-25T13:49:16.599484Z",
     "start_time": "2022-07-25T13:49:16.581102Z"
    }
   },
   "outputs": [],
   "source": [
    "# Calculate VaR\n",
    "\n",
    "# Parameter:\n",
    "#     days: (int) timeframe\n",
    "#     confidence: the probability of occurrence\n",
    "#     date: the benchmark day\n",
    "#     stock_data: (DataFrame) stock trading data\n",
    "\n",
    "\n",
    "def cal_VaR(days, confidence, date, stock_data):\n",
    "    share_price = stock_data['Close'][date]\n",
    "    Z_value = stats.norm.ppf(abs(1 - confidence))\n",
    "    mean_return_rate = stock_data['Close'].pct_change().mean()\n",
    "    std_return_rate = stock_data['Close'].pct_change().std()\n",
    "    \n",
    "    rel_VaR = math.sqrt(days) * share_price * Z_value * std_return_rate \n",
    "    return rel_VaR"
   ]
  },
  {
   "cell_type": "code",
   "execution_count": 9,
   "id": "35213465",
   "metadata": {
    "ExecuteTime": {
     "end_time": "2022-07-25T13:49:16.632962Z",
     "start_time": "2022-07-25T13:49:16.612693Z"
    }
   },
   "outputs": [
    {
     "name": "stdout",
     "output_type": "stream",
     "text": [
      "-12.553582291458538\n"
     ]
    }
   ],
   "source": [
    "# Example\n",
    "VaR = cal_VaR(2, 0.99, '2021-12-31', stock_data)\n",
    "print(VaR)"
   ]
  },
  {
   "cell_type": "markdown",
   "id": "003df77a",
   "metadata": {},
   "source": [
    "**Financial Analysis：**  \n",
    "Value at risk (VaR) is a statistic that quantifies the extent of possible financial losses within a firm, portfolio, or position over a specific time frame.  \n",
    "    \n",
    "We use variance-covariance method to evaluate VaR based on Efficient Market Hypothesis (EMH). Specifically speaking, instead of assuming the past will inform the future, this method assumes that gains and losses are normally distributed. This way, potential losses can be framed in terms of standard deviation events from the mean."
   ]
  },
  {
   "cell_type": "markdown",
   "id": "a25716f8",
   "metadata": {},
   "source": [
    "### beta/$\\beta$"
   ]
  },
  {
   "cell_type": "code",
   "execution_count": 10,
   "id": "f6b0ef68",
   "metadata": {
    "ExecuteTime": {
     "end_time": "2022-07-25T13:49:16.679630Z",
     "start_time": "2022-07-25T13:49:16.663931Z"
    }
   },
   "outputs": [],
   "source": [
    "# Calculate and compare Beta\n",
    "\n",
    "# Parameter:\n",
    "#     ticker: (str) stock symbol\n",
    "#     beta_tuple: (tuple) a tuple of betas\n",
    "\n",
    "def analyze_beta(ticker, beta_tuple):\n",
    "    dataList = list(beta_tuple)\n",
    "    df = pd.DataFrame(dataList, columns=['ticker', 'beta'])\n",
    "    df = df.sort_values(by='beta', ascending=False)\n",
    "    df = df.reset_index(drop=True)\n",
    "    stock_count = df.shape[0]\n",
    "    beta_rank = df[df['ticker'] == ticker].index.tolist()[0]\n",
    "    \n",
    "    beta_pos = (beta_rank + 1) / stock_count\n",
    "    print(\"Beta Rank:\", str(beta_pos * 100) + '%')\n",
    "    \n",
    "    # bid beta\n",
    "    if beta_pos >= 0.7:\n",
    "        print('This stock has a relatively high beta, which tends to move with more momentum than others.')\n",
    "        print('You may have larger possibility to get more profit, while you have to tolerate more risk.')\n",
    "    # small beta\n",
    "    elif beta_pos <= 0.3:\n",
    "        print('This stock has a relatively low beta, which tends to move with less momentum than others.')\n",
    "        print('You may have a stable profit, while the possibility to get big profit is small.')\n",
    "    else:\n",
    "        # moderate beta\n",
    "        print('This stock has a moderate beta.')"
   ]
  },
  {
   "cell_type": "code",
   "execution_count": 11,
   "id": "d90253ca",
   "metadata": {
    "ExecuteTime": {
     "end_time": "2022-07-25T13:49:16.714249Z",
     "start_time": "2022-07-25T13:49:16.690158Z"
    }
   },
   "outputs": [
    {
     "name": "stdout",
     "output_type": "stream",
     "text": [
      "Beta Rank: 60.0%\n",
      "This stock has a moderate beta.\n",
      "\n",
      "Beta Rank: 20.0%\n",
      "This stock has a relatively low beta, which tends to move with less momentum than others.\n",
      "You may have a stable profit, while the possibility to get big profit is small.\n"
     ]
    }
   ],
   "source": [
    "# Example\n",
    "\n",
    "beta_tuple = (('Facebook', 0.5),\n",
    "        ('Alphabet', 1),\n",
    "        ('Amazon', 1.2),\n",
    "        ('Apple', 0.4),\n",
    "        ('MSFT', 0.75))\n",
    "\n",
    "analyze_beta('MSFT', beta_tuple)\n",
    "print('')\n",
    "analyze_beta('Amazon', beta_tuple)"
   ]
  },
  {
   "cell_type": "markdown",
   "id": "8a25ae61",
   "metadata": {},
   "source": [
    "**Financial Analysis:**   \n",
    "Beta (β) is a measure of the volatility—or systematic risk—of a security or portfolio compared to the market as a whole (usually the S&P 500). Stocks with betas higher than 1.0 can be interpreted as more volatile than the S&P 500.  \n",
    "     \n",
    "If a stock has a beta of 1.0, it indicates that its price activity is strongly correlated with the market.\n",
    "  \n",
    "A beta value that is less than 1.0 means that the security is theoretically less volatile than the market. Including this stock in a portfolio makes it less risky than the same portfolio without the stock.  \n",
    "  \n",
    "A beta that is greater than 1.0 indicates that the security's price is theoretically more volatile than the market. For example, if a stock's beta is 1.2, it is assumed to be 20% more volatile than the market. Technology stocks and small cap stocks tend to have higher betas than the market benchmark. This indicates that adding the stock to a portfolio will increase the portfolio’s risk, but may also increase its expected return.\n",
    "     \n",
    "Some stocks have negative betas. A beta of -1.0 means that the stock is inversely correlated to the market benchmark on a 1:1 basis. This stock could be thought of as an opposite, mirror image of the benchmark’s trends."
   ]
  },
  {
   "cell_type": "markdown",
   "id": "de71faf6",
   "metadata": {
    "ExecuteTime": {
     "end_time": "2022-07-25T06:15:57.173508Z",
     "start_time": "2022-07-25T06:15:57.151177Z"
    }
   },
   "source": [
    "### Price/Earnings-to-Growth (PEG) Ratio"
   ]
  },
  {
   "cell_type": "code",
   "execution_count": 19,
   "id": "7c87c838",
   "metadata": {
    "ExecuteTime": {
     "end_time": "2022-07-25T14:04:30.827185Z",
     "start_time": "2022-07-25T14:04:30.818138Z"
    }
   },
   "outputs": [],
   "source": [
    "# Calculate and compare PEG Ratio\n",
    "\n",
    "# Parameter:\n",
    "#     ticker: (str) stock symbol\n",
    "#     pegr_tuple: (tuple) a tuple of PEG Ratios\n",
    "\n",
    "def analyze_pegr(ticker, pegr_tuple):\n",
    "    dataList = list(pegr_tuple)\n",
    "    df = pd.DataFrame(dataList, columns=['ticker', 'peg ratio'])\n",
    "    df = df.sort_values(by='peg ratio', ascending=False)\n",
    "    df = df.reset_index(drop=True)\n",
    "#     print(df)\n",
    "\n",
    "    stock_count = df.shape[0]\n",
    "    pegr_rank = df[df['ticker'] == ticker].index.tolist()[0]\n",
    "    \n",
    "    pegr_pos = (pegr_rank + 1) / stock_count\n",
    "    print(\"PEG Ratio Rank:\", str(pegr_pos * 100) + '%')\n",
    "    \n",
    "    # peg ratio比较大\n",
    "    if pegr_pos >= 0.7:\n",
    "        print('This stock has a relatively high PEG, which may indicate that a stock is overvalued.')\n",
    "    # 比较小\n",
    "    elif pegr_pos <= 0.3:\n",
    "        print('This stock has a relatively low PEG, which may indicate that a stock is undervalued.')\n",
    "    else:\n",
    "        print('This stock has a moderate PEG.')"
   ]
  },
  {
   "cell_type": "code",
   "execution_count": 20,
   "id": "4ede7cde",
   "metadata": {
    "ExecuteTime": {
     "end_time": "2022-07-25T14:04:34.437307Z",
     "start_time": "2022-07-25T14:04:34.424838Z"
    },
    "scrolled": true
   },
   "outputs": [
    {
     "name": "stdout",
     "output_type": "stream",
     "text": [
      "PEG Ratio Rank: 20.0%\n",
      "This stock has a relatively low PEG, which may indicate that a stock is undervalued.\n",
      "\n",
      "PEG Ratio Rank: 100.0%\n",
      "This stock has a relatively high PEG, which may indicate that a stock is overvalued.\n"
     ]
    }
   ],
   "source": [
    "# Example\n",
    "\n",
    "pegr_tuple = (('Facebook', 1.7),\n",
    "        ('Alphabet', 1.2),\n",
    "        ('Amazon', 2.2),\n",
    "        ('Apple', 0.98),\n",
    "        ('MSFT', 1))\n",
    "\n",
    "analyze_pegr('Amazon', pegr_tuple)\n",
    "print('')\n",
    "analyze_pegr('Apple', pegr_tuple)"
   ]
  },
  {
   "cell_type": "markdown",
   "id": "6736b29b",
   "metadata": {},
   "source": [
    "**Financial Analysis：**  \n",
    "The price/earnings to growth ratio (PEG ratio) is a stock's price-to-earnings (P/E) ratio divided by the growth rate of its earnings for a specified time period. The PEG ratio is used to determine a stock's value while also factoring in the company's expected earnings growth, and it is thought to provide a more complete picture than the more standard P/E ratio.  \n",
    "  \n",
    "The lower the PEG ratio, the more the stock may be undervalued given its future earnings expectations.   \n",
    "  \n",
    "It is believed that a company's P/E and expected growth should be equal, which denotes a fairly valued company and supports a PEG ratio of 1.0. When a company's PEG exceeds 1.0, it's considered overvalued while a stock with a PEG of less than 1.0 is considered undervalued.  \n"
   ]
  },
  {
   "cell_type": "markdown",
   "id": "7d4bbf3a",
   "metadata": {},
   "source": [
    "### Quick Ratio"
   ]
  },
  {
   "cell_type": "code",
   "execution_count": 55,
   "id": "012b71f0",
   "metadata": {
    "ExecuteTime": {
     "end_time": "2022-07-25T14:30:48.504208Z",
     "start_time": "2022-07-25T14:30:48.483973Z"
    }
   },
   "outputs": [],
   "source": [
    "# Calculate and compare Quick Ratio\n",
    "\n",
    "# Parameter:\n",
    "#     ticker: (str) stock symbol\n",
    "#     beta_tuple: (tuple) a tuple of quick ratios\n",
    "def analyze_qr(ticker, qr_tuple):\n",
    "    dataList = list(qr_tuple)\n",
    "    df = pd.DataFrame(dataList, columns=['ticker', 'quick ratio'])\n",
    "    df = df.sort_values(by='quick ratio', ascending=False)\n",
    "    df = df.reset_index(drop=True)\n",
    "\n",
    "    stock_count = df.shape[0]\n",
    "    index = df[df['ticker'] == ticker].index.tolist()[0]\n",
    "    quick_ratio = df.iat[index, 1]\n",
    "    print(\"Quick Ratio:\", quick_ratio)\n",
    "    \n",
    "    # quick ratio比较大，公司完全配备了足够的资产，可以立即清算以偿还流动负债\n",
    "    if quick_ratio < 1:\n",
    "        print(\"WARNING: This company has a quick ratio of less than 1, which indicates that it not be able to fully pay off its current liabilities in the short term.\")\n",
    "    else:\n",
    "        print(\"This company has a quick ratio of no less than 1, which indicates that it fully equipped with enough assets to be instantly liquidated to pay off its current liabilities.\")"
   ]
  },
  {
   "cell_type": "code",
   "execution_count": 58,
   "id": "5d4470b5",
   "metadata": {
    "ExecuteTime": {
     "end_time": "2022-07-25T14:31:20.852444Z",
     "start_time": "2022-07-25T14:31:20.834724Z"
    }
   },
   "outputs": [
    {
     "name": "stdout",
     "output_type": "stream",
     "text": [
      "Quick Ratio: 0.5\n",
      "WARNING: This company has a quick ratio of less than 1, which indicates that it not be able to fully pay off its current liabilities in the short term.\n",
      "\n",
      "Quick Ratio: 1.7\n",
      "This company has a quick ratio of no less than 1, which indicates that it fully equipped with enough assets to be instantly liquidated to pay off its current liabilities.\n"
     ]
    }
   ],
   "source": [
    "# Example\n",
    "\n",
    "qr_tuple = (('Facebook', 1.7),\n",
    "        ('Alphabet', 1.13),\n",
    "        ('Amazon', 1.2),\n",
    "        ('Apple', 0.98),\n",
    "        ('MSFT', 0.5))\n",
    "\n",
    "analyze_qr('MSFT', qr_tuple)\n",
    "print(\"\")\n",
    "analyze_qr('Facebook', qr_tuple)"
   ]
  },
  {
   "cell_type": "markdown",
   "id": "2691fe00",
   "metadata": {},
   "source": [
    "**Financial Analysis：**  \n",
    "The quick ratio is an indicator of a company’s short-term liquidity position and measures a company’s ability to meet its short-term obligations with its most liquid assets.  \n",
    "  \n",
    "The higher the ratio result, the better a company's liquidity and financial health; the lower the ratio, the more likely the company will struggle with paying debts.  \n",
    "  \n",
    "A result of 1 is considered to be the normal quick ratio. It indicates that the company is fully equipped with exactly enough assets to be instantly liquidated to pay off its current liabilities. A company that has a quick ratio of less than 1 may not be able to fully pay off its current liabilities in the short term, while a company having a quick ratio higher than 1 can instantly get rid of its current liabilities. For instance, a quick ratio of 1.5 indicates that a company has $\\$1.50$ of liquid assets available to cover each $\\$1$ of its current liabilities."
   ]
  }
 ],
 "metadata": {
  "kernelspec": {
   "display_name": "Python 3 (ipykernel)",
   "language": "python",
   "name": "python3"
  },
  "language_info": {
   "codemirror_mode": {
    "name": "ipython",
    "version": 3
   },
   "file_extension": ".py",
   "mimetype": "text/x-python",
   "name": "python",
   "nbconvert_exporter": "python",
   "pygments_lexer": "ipython3",
   "version": "3.8.0"
  },
  "toc": {
   "base_numbering": 1,
   "nav_menu": {},
   "number_sections": true,
   "sideBar": true,
   "skip_h1_title": true,
   "title_cell": "Table of Contents",
   "title_sidebar": "Contents",
   "toc_cell": true,
   "toc_position": {},
   "toc_section_display": true,
   "toc_window_display": false
  }
 },
 "nbformat": 4,
 "nbformat_minor": 5
}
